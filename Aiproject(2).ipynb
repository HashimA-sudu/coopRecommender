{
  "nbformat": 4,
  "nbformat_minor": 0,
  "metadata": {
    "colab": {
      "provenance": []
    },
    "kernelspec": {
      "name": "python3",
      "display_name": "Python 3"
    },
    "language_info": {
      "name": "python"
    }
  },
  "cells": [
    {
      "cell_type": "code",
      "source": [
        "!pip install scikit-surprise"
      ],
      "metadata": {
        "colab": {
          "base_uri": "https://localhost:8080/"
        },
        "id": "XYcX-RyXzbDV",
        "outputId": "b7897ad2-ba3f-4bdb-bb72-83fd52176cd3"
      },
      "execution_count": null,
      "outputs": [
        {
          "output_type": "stream",
          "name": "stdout",
          "text": [
            "Collecting scikit-surprise\n",
            "  Downloading scikit-surprise-1.1.3.tar.gz (771 kB)\n",
            "\u001b[2K     \u001b[90m━━━━━━━━━━━━━━━━━━━━━━━━━━━━━━━━━━━━━━━━\u001b[0m \u001b[32m772.0/772.0 kB\u001b[0m \u001b[31m6.0 MB/s\u001b[0m eta \u001b[36m0:00:00\u001b[0m\n",
            "\u001b[?25h  Preparing metadata (setup.py) ... \u001b[?25l\u001b[?25hdone\n",
            "Requirement already satisfied: joblib>=1.0.0 in /usr/local/lib/python3.10/dist-packages (from scikit-surprise) (1.4.2)\n",
            "Requirement already satisfied: numpy>=1.17.3 in /usr/local/lib/python3.10/dist-packages (from scikit-surprise) (1.25.2)\n",
            "Requirement already satisfied: scipy>=1.3.2 in /usr/local/lib/python3.10/dist-packages (from scikit-surprise) (1.11.4)\n",
            "Building wheels for collected packages: scikit-surprise\n",
            "  Building wheel for scikit-surprise (setup.py) ... \u001b[?25l\u001b[?25hdone\n",
            "  Created wheel for scikit-surprise: filename=scikit_surprise-1.1.3-cp310-cp310-linux_x86_64.whl size=3162996 sha256=4b666f2a6cb21395283ac9233c96ec50ae3717cd2433827ded10edb31133016d\n",
            "  Stored in directory: /root/.cache/pip/wheels/a5/ca/a8/4e28def53797fdc4363ca4af740db15a9c2f1595ebc51fb445\n",
            "Successfully built scikit-surprise\n",
            "Installing collected packages: scikit-surprise\n",
            "Successfully installed scikit-surprise-1.1.3\n"
          ]
        }
      ]
    },
    {
      "cell_type": "markdown",
      "source": [
        "**Upload and Load the CSV Data**"
      ],
      "metadata": {
        "id": "GRKq02boooiH"
      }
    },
    {
      "cell_type": "code",
      "source": [
        "# Load the data from the CSV file\n",
        "import pandas as pd\n",
        "\n",
        "file_path = '/content/drive/MyDrive/Colab Notebooks/data.csv'\n",
        "df = pd.read_csv(file_path)\n",
        "\n",
        "# Clean the column names\n",
        "df.columns = df.columns.str.strip()\n",
        "\n",
        "# Print the columns of the DataFrame to verify the column names\n",
        "print(\"Columns in the CSV file:\", df.columns)\n",
        "\n",
        "# Display the first few rows of the DataFrame\n",
        "df.head()"
      ],
      "metadata": {
        "colab": {
          "base_uri": "https://localhost:8080/",
          "height": 224
        },
        "id": "15YSnbOGoFKh",
        "outputId": "3404da66-6505-450f-f4bf-2f3d86f17d95"
      },
      "execution_count": null,
      "outputs": [
        {
          "output_type": "stream",
          "name": "stdout",
          "text": [
            "Columns in the CSV file: Index(['job_id', 'job_description', 'student_id', 'student_skills'], dtype='object')\n"
          ]
        },
        {
          "output_type": "execute_result",
          "data": {
            "text/plain": [
              "   job_id                                    job_description  student_id  \\\n",
              "0       1          Supply chain manager overseeing logistics           1   \n",
              "1       2         inventory control and vendor relationships           2   \n",
              "2       3         crisis communications and brand reputation           3   \n",
              "3       4            improving efficiency and managing teams           4   \n",
              "4       5  Machine learning engineer with experience in T...           5   \n",
              "\n",
              "                                      student_skills  \n",
              "0          Online Degrees Certificates Credentialing  \n",
              "1        Technical Support Help Desk Troubleshooting  \n",
              "2      Fintech Payment Systems Blockchain Technology  \n",
              "3              BI Tools Tableau Power BI Data Mining  \n",
              "4  Corporate Communications Internal Communicatio...  "
            ],
            "text/html": [
              "\n",
              "  <div id=\"df-617516e8-c5cd-4c4f-864e-a87a17b61747\" class=\"colab-df-container\">\n",
              "    <div>\n",
              "<style scoped>\n",
              "    .dataframe tbody tr th:only-of-type {\n",
              "        vertical-align: middle;\n",
              "    }\n",
              "\n",
              "    .dataframe tbody tr th {\n",
              "        vertical-align: top;\n",
              "    }\n",
              "\n",
              "    .dataframe thead th {\n",
              "        text-align: right;\n",
              "    }\n",
              "</style>\n",
              "<table border=\"1\" class=\"dataframe\">\n",
              "  <thead>\n",
              "    <tr style=\"text-align: right;\">\n",
              "      <th></th>\n",
              "      <th>job_id</th>\n",
              "      <th>job_description</th>\n",
              "      <th>student_id</th>\n",
              "      <th>student_skills</th>\n",
              "    </tr>\n",
              "  </thead>\n",
              "  <tbody>\n",
              "    <tr>\n",
              "      <th>0</th>\n",
              "      <td>1</td>\n",
              "      <td>Supply chain manager overseeing logistics</td>\n",
              "      <td>1</td>\n",
              "      <td>Online Degrees Certificates Credentialing</td>\n",
              "    </tr>\n",
              "    <tr>\n",
              "      <th>1</th>\n",
              "      <td>2</td>\n",
              "      <td>inventory control and vendor relationships</td>\n",
              "      <td>2</td>\n",
              "      <td>Technical Support Help Desk Troubleshooting</td>\n",
              "    </tr>\n",
              "    <tr>\n",
              "      <th>2</th>\n",
              "      <td>3</td>\n",
              "      <td>crisis communications and brand reputation</td>\n",
              "      <td>3</td>\n",
              "      <td>Fintech Payment Systems Blockchain Technology</td>\n",
              "    </tr>\n",
              "    <tr>\n",
              "      <th>3</th>\n",
              "      <td>4</td>\n",
              "      <td>improving efficiency and managing teams</td>\n",
              "      <td>4</td>\n",
              "      <td>BI Tools Tableau Power BI Data Mining</td>\n",
              "    </tr>\n",
              "    <tr>\n",
              "      <th>4</th>\n",
              "      <td>5</td>\n",
              "      <td>Machine learning engineer with experience in T...</td>\n",
              "      <td>5</td>\n",
              "      <td>Corporate Communications Internal Communicatio...</td>\n",
              "    </tr>\n",
              "  </tbody>\n",
              "</table>\n",
              "</div>\n",
              "    <div class=\"colab-df-buttons\">\n",
              "\n",
              "  <div class=\"colab-df-container\">\n",
              "    <button class=\"colab-df-convert\" onclick=\"convertToInteractive('df-617516e8-c5cd-4c4f-864e-a87a17b61747')\"\n",
              "            title=\"Convert this dataframe to an interactive table.\"\n",
              "            style=\"display:none;\">\n",
              "\n",
              "  <svg xmlns=\"http://www.w3.org/2000/svg\" height=\"24px\" viewBox=\"0 -960 960 960\">\n",
              "    <path d=\"M120-120v-720h720v720H120Zm60-500h600v-160H180v160Zm220 220h160v-160H400v160Zm0 220h160v-160H400v160ZM180-400h160v-160H180v160Zm440 0h160v-160H620v160ZM180-180h160v-160H180v160Zm440 0h160v-160H620v160Z\"/>\n",
              "  </svg>\n",
              "    </button>\n",
              "\n",
              "  <style>\n",
              "    .colab-df-container {\n",
              "      display:flex;\n",
              "      gap: 12px;\n",
              "    }\n",
              "\n",
              "    .colab-df-convert {\n",
              "      background-color: #E8F0FE;\n",
              "      border: none;\n",
              "      border-radius: 50%;\n",
              "      cursor: pointer;\n",
              "      display: none;\n",
              "      fill: #1967D2;\n",
              "      height: 32px;\n",
              "      padding: 0 0 0 0;\n",
              "      width: 32px;\n",
              "    }\n",
              "\n",
              "    .colab-df-convert:hover {\n",
              "      background-color: #E2EBFA;\n",
              "      box-shadow: 0px 1px 2px rgba(60, 64, 67, 0.3), 0px 1px 3px 1px rgba(60, 64, 67, 0.15);\n",
              "      fill: #174EA6;\n",
              "    }\n",
              "\n",
              "    .colab-df-buttons div {\n",
              "      margin-bottom: 4px;\n",
              "    }\n",
              "\n",
              "    [theme=dark] .colab-df-convert {\n",
              "      background-color: #3B4455;\n",
              "      fill: #D2E3FC;\n",
              "    }\n",
              "\n",
              "    [theme=dark] .colab-df-convert:hover {\n",
              "      background-color: #434B5C;\n",
              "      box-shadow: 0px 1px 3px 1px rgba(0, 0, 0, 0.15);\n",
              "      filter: drop-shadow(0px 1px 2px rgba(0, 0, 0, 0.3));\n",
              "      fill: #FFFFFF;\n",
              "    }\n",
              "  </style>\n",
              "\n",
              "    <script>\n",
              "      const buttonEl =\n",
              "        document.querySelector('#df-617516e8-c5cd-4c4f-864e-a87a17b61747 button.colab-df-convert');\n",
              "      buttonEl.style.display =\n",
              "        google.colab.kernel.accessAllowed ? 'block' : 'none';\n",
              "\n",
              "      async function convertToInteractive(key) {\n",
              "        const element = document.querySelector('#df-617516e8-c5cd-4c4f-864e-a87a17b61747');\n",
              "        const dataTable =\n",
              "          await google.colab.kernel.invokeFunction('convertToInteractive',\n",
              "                                                    [key], {});\n",
              "        if (!dataTable) return;\n",
              "\n",
              "        const docLinkHtml = 'Like what you see? Visit the ' +\n",
              "          '<a target=\"_blank\" href=https://colab.research.google.com/notebooks/data_table.ipynb>data table notebook</a>'\n",
              "          + ' to learn more about interactive tables.';\n",
              "        element.innerHTML = '';\n",
              "        dataTable['output_type'] = 'display_data';\n",
              "        await google.colab.output.renderOutput(dataTable, element);\n",
              "        const docLink = document.createElement('div');\n",
              "        docLink.innerHTML = docLinkHtml;\n",
              "        element.appendChild(docLink);\n",
              "      }\n",
              "    </script>\n",
              "  </div>\n",
              "\n",
              "\n",
              "<div id=\"df-2629f7a0-1926-4911-b9a2-70569953de63\">\n",
              "  <button class=\"colab-df-quickchart\" onclick=\"quickchart('df-2629f7a0-1926-4911-b9a2-70569953de63')\"\n",
              "            title=\"Suggest charts\"\n",
              "            style=\"display:none;\">\n",
              "\n",
              "<svg xmlns=\"http://www.w3.org/2000/svg\" height=\"24px\"viewBox=\"0 0 24 24\"\n",
              "     width=\"24px\">\n",
              "    <g>\n",
              "        <path d=\"M19 3H5c-1.1 0-2 .9-2 2v14c0 1.1.9 2 2 2h14c1.1 0 2-.9 2-2V5c0-1.1-.9-2-2-2zM9 17H7v-7h2v7zm4 0h-2V7h2v10zm4 0h-2v-4h2v4z\"/>\n",
              "    </g>\n",
              "</svg>\n",
              "  </button>\n",
              "\n",
              "<style>\n",
              "  .colab-df-quickchart {\n",
              "      --bg-color: #E8F0FE;\n",
              "      --fill-color: #1967D2;\n",
              "      --hover-bg-color: #E2EBFA;\n",
              "      --hover-fill-color: #174EA6;\n",
              "      --disabled-fill-color: #AAA;\n",
              "      --disabled-bg-color: #DDD;\n",
              "  }\n",
              "\n",
              "  [theme=dark] .colab-df-quickchart {\n",
              "      --bg-color: #3B4455;\n",
              "      --fill-color: #D2E3FC;\n",
              "      --hover-bg-color: #434B5C;\n",
              "      --hover-fill-color: #FFFFFF;\n",
              "      --disabled-bg-color: #3B4455;\n",
              "      --disabled-fill-color: #666;\n",
              "  }\n",
              "\n",
              "  .colab-df-quickchart {\n",
              "    background-color: var(--bg-color);\n",
              "    border: none;\n",
              "    border-radius: 50%;\n",
              "    cursor: pointer;\n",
              "    display: none;\n",
              "    fill: var(--fill-color);\n",
              "    height: 32px;\n",
              "    padding: 0;\n",
              "    width: 32px;\n",
              "  }\n",
              "\n",
              "  .colab-df-quickchart:hover {\n",
              "    background-color: var(--hover-bg-color);\n",
              "    box-shadow: 0 1px 2px rgba(60, 64, 67, 0.3), 0 1px 3px 1px rgba(60, 64, 67, 0.15);\n",
              "    fill: var(--button-hover-fill-color);\n",
              "  }\n",
              "\n",
              "  .colab-df-quickchart-complete:disabled,\n",
              "  .colab-df-quickchart-complete:disabled:hover {\n",
              "    background-color: var(--disabled-bg-color);\n",
              "    fill: var(--disabled-fill-color);\n",
              "    box-shadow: none;\n",
              "  }\n",
              "\n",
              "  .colab-df-spinner {\n",
              "    border: 2px solid var(--fill-color);\n",
              "    border-color: transparent;\n",
              "    border-bottom-color: var(--fill-color);\n",
              "    animation:\n",
              "      spin 1s steps(1) infinite;\n",
              "  }\n",
              "\n",
              "  @keyframes spin {\n",
              "    0% {\n",
              "      border-color: transparent;\n",
              "      border-bottom-color: var(--fill-color);\n",
              "      border-left-color: var(--fill-color);\n",
              "    }\n",
              "    20% {\n",
              "      border-color: transparent;\n",
              "      border-left-color: var(--fill-color);\n",
              "      border-top-color: var(--fill-color);\n",
              "    }\n",
              "    30% {\n",
              "      border-color: transparent;\n",
              "      border-left-color: var(--fill-color);\n",
              "      border-top-color: var(--fill-color);\n",
              "      border-right-color: var(--fill-color);\n",
              "    }\n",
              "    40% {\n",
              "      border-color: transparent;\n",
              "      border-right-color: var(--fill-color);\n",
              "      border-top-color: var(--fill-color);\n",
              "    }\n",
              "    60% {\n",
              "      border-color: transparent;\n",
              "      border-right-color: var(--fill-color);\n",
              "    }\n",
              "    80% {\n",
              "      border-color: transparent;\n",
              "      border-right-color: var(--fill-color);\n",
              "      border-bottom-color: var(--fill-color);\n",
              "    }\n",
              "    90% {\n",
              "      border-color: transparent;\n",
              "      border-bottom-color: var(--fill-color);\n",
              "    }\n",
              "  }\n",
              "</style>\n",
              "\n",
              "  <script>\n",
              "    async function quickchart(key) {\n",
              "      const quickchartButtonEl =\n",
              "        document.querySelector('#' + key + ' button');\n",
              "      quickchartButtonEl.disabled = true;  // To prevent multiple clicks.\n",
              "      quickchartButtonEl.classList.add('colab-df-spinner');\n",
              "      try {\n",
              "        const charts = await google.colab.kernel.invokeFunction(\n",
              "            'suggestCharts', [key], {});\n",
              "      } catch (error) {\n",
              "        console.error('Error during call to suggestCharts:', error);\n",
              "      }\n",
              "      quickchartButtonEl.classList.remove('colab-df-spinner');\n",
              "      quickchartButtonEl.classList.add('colab-df-quickchart-complete');\n",
              "    }\n",
              "    (() => {\n",
              "      let quickchartButtonEl =\n",
              "        document.querySelector('#df-2629f7a0-1926-4911-b9a2-70569953de63 button');\n",
              "      quickchartButtonEl.style.display =\n",
              "        google.colab.kernel.accessAllowed ? 'block' : 'none';\n",
              "    })();\n",
              "  </script>\n",
              "</div>\n",
              "\n",
              "    </div>\n",
              "  </div>\n"
            ],
            "application/vnd.google.colaboratory.intrinsic+json": {
              "type": "dataframe",
              "variable_name": "df",
              "summary": "{\n  \"name\": \"df\",\n  \"rows\": 500,\n  \"fields\": [\n    {\n      \"column\": \"job_id\",\n      \"properties\": {\n        \"dtype\": \"number\",\n        \"std\": 144,\n        \"min\": 1,\n        \"max\": 500,\n        \"num_unique_values\": 500,\n        \"samples\": [\n          362,\n          74,\n          375\n        ],\n        \"semantic_type\": \"\",\n        \"description\": \"\"\n      }\n    },\n    {\n      \"column\": \"job_description\",\n      \"properties\": {\n        \"dtype\": \"category\",\n        \"num_unique_values\": 61,\n        \"samples\": [\n          \"Supply chain manager overseeing logistics\",\n          \"DevOps engineer role with experience in CI/CD Docker and Kubernetes\",\n          \"Game developer with experience in Unity C# and game design principles\"\n        ],\n        \"semantic_type\": \"\",\n        \"description\": \"\"\n      }\n    },\n    {\n      \"column\": \"student_id\",\n      \"properties\": {\n        \"dtype\": \"number\",\n        \"std\": 144,\n        \"min\": 1,\n        \"max\": 500,\n        \"num_unique_values\": 500,\n        \"samples\": [\n          362,\n          74,\n          375\n        ],\n        \"semantic_type\": \"\",\n        \"description\": \"\"\n      }\n    },\n    {\n      \"column\": \"student_skills\",\n      \"properties\": {\n        \"dtype\": \"string\",\n        \"num_unique_values\": 255,\n        \"samples\": [\n          \"Circular Economy Resource Recovery\",\n          \"Research Centers Institutes Collaborative Projects\",\n          \"Branding Identity Development Positioning\"\n        ],\n        \"semantic_type\": \"\",\n        \"description\": \"\"\n      }\n    }\n  ]\n}"
            }
          },
          "metadata": {},
          "execution_count": 3
        }
      ]
    },
    {
      "cell_type": "markdown",
      "source": [
        "**Prepare the Data for the Surprise Library**"
      ],
      "metadata": {
        "id": "BEixbZ9BopPx"
      }
    },
    {
      "cell_type": "code",
      "source": [
        "from surprise import Dataset, Reader\n",
        "\n",
        "# Create an interaction column (assuming each student interacted with the listed job)\n",
        "df['interaction'] = 1\n",
        "\n",
        "# Use the Surprise library's Reader class to parse the data\n",
        "reader = Reader(rating_scale=(0, 1))\n",
        "data = Dataset.load_from_df(df[['student_id', 'job_id', 'interaction']], reader)"
      ],
      "metadata": {
        "id": "QhZr365DoE-4"
      },
      "execution_count": null,
      "outputs": []
    },
    {
      "cell_type": "markdown",
      "source": [
        "**Train the SVD Model**"
      ],
      "metadata": {
        "id": "2ebtkZ8fop40"
      }
    },
    {
      "cell_type": "code",
      "source": [
        "from surprise import SVD\n",
        "from surprise.model_selection import train_test_split\n",
        "\n",
        "# Split the data into training and testing sets\n",
        "trainset, testset = train_test_split(data, test_size=0.2)\n",
        "\n",
        "# Train the SVD model\n",
        "model = SVD()\n",
        "model.fit(trainset)"
      ],
      "metadata": {
        "colab": {
          "base_uri": "https://localhost:8080/"
        },
        "id": "HA3TVDERoEzo",
        "outputId": "9f471286-b0ca-400d-b328-e8cd161baa08"
      },
      "execution_count": null,
      "outputs": [
        {
          "output_type": "execute_result",
          "data": {
            "text/plain": [
              "<surprise.prediction_algorithms.matrix_factorization.SVD at 0x7c6ddaf195d0>"
            ]
          },
          "metadata": {},
          "execution_count": 7
        }
      ]
    },
    {
      "cell_type": "markdown",
      "source": [
        "**Generate Recommendations**"
      ],
      "metadata": {
        "id": "7bE2ysNSoqfI"
      }
    },
    {
      "cell_type": "code",
      "source": [
        "def get_recommendations(student_id, model, top_n=5):\n",
        "    # Get a list of all job_ids\n",
        "    job_ids = df['job_id'].unique()\n",
        "\n",
        "    # Predict the interaction score for each job_id\n",
        "    predictions = [model.predict(student_id, job_id) for job_id in job_ids]\n",
        "\n",
        "    # Sort the predictions by the estimated interaction score\n",
        "    predictions.sort(key=lambda x: x.est, reverse=True)\n",
        "\n",
        "    # Get the top N predictions\n",
        "    top_predictions = predictions[:top_n]\n",
        "\n",
        "    # Extract job_ids and scores\n",
        "    top_job_ids = [pred.iid for pred in top_predictions]\n",
        "    top_scores = [pred.est for pred in top_predictions]\n",
        "\n",
        "    # Get the job descriptions for the top job_ids\n",
        "    top_descriptions = df[df['job_id'].isin(top_job_ids)]['job_description'].tolist()\n",
        "\n",
        "    return pd.DataFrame({'job_id': top_job_ids, 'job_description': top_descriptions, 'score': top_scores})\n",
        "# Get recommendations for student_id 1\n",
        "recommendations = get_recommendations(student_id=student_id, model=model, top_n=5)\n",
        "print(recommendations)"
      ],
      "metadata": {
        "colab": {
          "base_uri": "https://localhost:8080/"
        },
        "id": "8E8XyCu7oEnU",
        "outputId": "282eb70a-97b7-4c33-b2af-f53bc38e8aa5"
      },
      "execution_count": null,
      "outputs": [
        {
          "output_type": "stream",
          "name": "stdout",
          "text": [
            "   job_id                                    job_description  score\n",
            "0       1          Supply chain manager overseeing logistics      1\n",
            "1       4            improving efficiency and managing teams      1\n",
            "2       5  Machine learning engineer with experience in T...      1\n",
            "3       9          Operations manager streamlining processes      1\n",
            "4      10  Public relations specialist handling media rel...      1\n"
          ]
        }
      ]
    },
    {
      "cell_type": "markdown",
      "source": [
        "**Evaluate the Model**\n"
      ],
      "metadata": {
        "id": "ENRXRgeHosNb"
      }
    },
    {
      "cell_type": "code",
      "source": [
        "from surprise import accuracy\n",
        "\n",
        "# Predict on the test set\n",
        "predictions = model.test(testset)\n",
        "\n",
        "# Compute and print the RMSE (Root Mean Squared Error)\n",
        "rmse = accuracy.rmse(predictions)\n",
        "print(f'RMSE: {rmse}')\n"
      ],
      "metadata": {
        "colab": {
          "base_uri": "https://localhost:8080/"
        },
        "id": "maQSD-kOod28",
        "outputId": "7abe953d-3f22-4414-cffc-633e2c95a8a1"
      },
      "execution_count": null,
      "outputs": [
        {
          "output_type": "stream",
          "name": "stdout",
          "text": [
            "RMSE: 0.0000\n",
            "RMSE: 0.0\n"
          ]
        }
      ]
    },
    {
      "cell_type": "markdown",
      "source": [
        "**Recommend Jobs for a New Student**"
      ],
      "metadata": {
        "id": "3awpwOe9ouCy"
      }
    },
    {
      "cell_type": "code",
      "source": [
        "def recommend_for_new_student(new_student_id, new_student_skills):\n",
        "    # Append the new student's data to the original dataframe\n",
        "    new_student_data = {\n",
        "        'job_id': df['job_id'].tolist(),\n",
        "        'job_description': df['job_description'].tolist(),\n",
        "        'student_id': [new_student_id] * len(df['job_id']),\n",
        "        'student_skills': [new_student_skills] * len(df['job_id']),\n",
        "        'interaction': [1] * len(df['job_id'])  # Assuming interaction is 1\n",
        "    }\n",
        "\n",
        "    df_new_student = pd.DataFrame(new_student_data)\n",
        "    df_combined = pd.concat([df, df_new_student], ignore_index=True)\n",
        "\n",
        "    # Use the Surprise library's Reader class to parse the combined data\n",
        "    data_combined = Dataset.load_from_df(df_combined[['student_id', 'job_id', 'interaction']], reader)\n",
        "\n",
        "    # Train a new SVD model on the combined data\n",
        "    trainset_combined = data_combined.build_full_trainset()\n",
        "    model_combined = SVD()\n",
        "    model_combined.fit(trainset_combined)\n",
        "\n",
        "    # Generate recommendations for the new student\n",
        "    recommendations = get_recommendations(new_student_id, model_combined, top_n=5)\n",
        "    return recommendations\n",
        "\n",
        "# Take student ID and skills as input from the user\n",
        "new_student_id = int(input(\"Enter new student ID: \"))\n",
        "new_student_skills = input(\"Enter new student skills: \")\n",
        "\n",
        "# Get recommendations for the new student\n",
        "new_recommendations = recommend_for_new_student(new_student_id, new_student_skills)\n",
        "print(new_recommendations)\n"
      ],
      "metadata": {
        "colab": {
          "base_uri": "https://localhost:8080/"
        },
        "id": "SkftmYfEokeG",
        "outputId": "83af1acb-1b53-4266-9e3b-2b6add56e70e"
      },
      "execution_count": null,
      "outputs": [
        {
          "output_type": "stream",
          "name": "stdout",
          "text": [
            "Enter new student ID: 2345\n",
            "Enter new student skills: sql\n",
            "   job_id                                    job_description  score\n",
            "0       2         inventory control and vendor relationships      1\n",
            "1       5  Machine learning engineer with experience in T...      1\n",
            "2       7     IT support specialist troubleshooting hardware      1\n",
            "3      13  Human resources specialist focused on recruitment      1\n",
            "4      14                   JavaScript and responsive design      1\n"
          ]
        }
      ]
    }
  ]
}